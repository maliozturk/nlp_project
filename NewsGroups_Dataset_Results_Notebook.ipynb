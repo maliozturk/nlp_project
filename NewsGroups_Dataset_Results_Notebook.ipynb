{
 "cells": [
  {
   "cell_type": "code",
   "execution_count": 1,
   "outputs": [],
   "source": [
    "from nltk import word_tokenize, pos_tag\n",
    "import pandas as pd\n",
    "import re\n",
    "import os\n",
    "import torch\n",
    "import torch.nn as nn\n",
    "import torch.optim as optim\n",
    "from torch.nn.utils.rnn import pad_sequence\n",
    "import matplotlib.pyplot as plt\n",
    "import numpy as np"
   ],
   "metadata": {
    "collapsed": false,
    "ExecuteTime": {
     "end_time": "2024-01-17T08:09:18.965792275Z",
     "start_time": "2024-01-17T08:09:15.974156143Z"
    }
   },
   "id": "initial_id"
  },
  {
   "cell_type": "code",
   "execution_count": 2,
   "outputs": [],
   "source": [
    "def is_word_appearing_in_the_from(word, line):\n",
    "    if 'from' in line.lower() and word.lower().strip() != 'from':\n",
    "        return True\n",
    "    else:\n",
    "        return False\n",
    "    \n",
    "def followed_by_and_I(word, context):\n",
    "    # if word is followed by \"and I\" return true, else false.\n",
    "    context = context.lower()\n",
    "    word = word.lower()\n",
    "    if context.count(f\"and i {word}\") > 0:\n",
    "        return True\n",
    "    else:\n",
    "        return False\n",
    "    \n",
    "def is_word_capitalized(word):\n",
    "    return word[0].isupper()\n",
    "\n",
    "\n",
    "def custom_word_tokenize(text): # need <true_name> labels within my tokens to know if its a name or not\n",
    "    name_pattern = r'<true_name>.*?</true_name>'\n",
    "\n",
    "    name_matches = re.finditer(name_pattern, text)\n",
    "\n",
    "    tokens = []\n",
    "    start_idx = 0\n",
    "    for match in name_matches:\n",
    "        tokens.extend(word_tokenize(text[start_idx:match.start()]))\n",
    "        tokens.append(match.group())\n",
    "        start_idx = match.end()\n",
    "\n",
    "    tokens.extend(word_tokenize(text[start_idx:]))\n",
    "\n",
    "    return tokens"
   ],
   "metadata": {
    "collapsed": false,
    "ExecuteTime": {
     "end_time": "2024-01-17T08:09:18.973642471Z",
     "start_time": "2024-01-17T08:09:18.968753624Z"
    }
   },
   "id": "e4e3cf2334d70d24"
  },
  {
   "cell_type": "code",
   "execution_count": 3,
   "outputs": [
    {
     "name": "stdout",
     "output_type": "stream",
     "text": [
      "Processing file at datasets/NewsGroups-XML/train/bunch1/10112...\n",
      "Processing file at datasets/NewsGroups-XML/train/bunch1/10168...\n",
      "Processing file at datasets/NewsGroups-XML/train/bunch1/10602...\n",
      "Processing file at datasets/NewsGroups-XML/train/bunch1/10650...\n",
      "Processing file at datasets/NewsGroups-XML/train/bunch1/10792...\n",
      "Processing file at datasets/NewsGroups-XML/train/bunch1/10818...\n",
      "Processing file at datasets/NewsGroups-XML/train/bunch1/10830...\n",
      "Processing file at datasets/NewsGroups-XML/train/bunch1/10848...\n",
      "Processing file at datasets/NewsGroups-XML/train/bunch1/10905...\n",
      "Processing file at datasets/NewsGroups-XML/train/bunch1/10935...\n",
      "Processing file at datasets/NewsGroups-XML/train/bunch1/15225...\n",
      "Processing file at datasets/NewsGroups-XML/train/bunch1/15260...\n",
      "Processing file at datasets/NewsGroups-XML/train/bunch1/15324...\n",
      "Processing file at datasets/NewsGroups-XML/train/bunch1/15364...\n",
      "Processing file at datasets/NewsGroups-XML/train/bunch1/15423...\n",
      "Processing file at datasets/NewsGroups-XML/train/bunch1/15471...\n",
      "Processing file at datasets/NewsGroups-XML/train/bunch1/15475...\n",
      "Processing file at datasets/NewsGroups-XML/train/bunch1/15626...\n",
      "Processing file at datasets/NewsGroups-XML/train/bunch1/15636...\n",
      "Processing file at datasets/NewsGroups-XML/train/bunch1/15655...\n",
      "Processing file at datasets/NewsGroups-XML/train/bunch1/15679...\n",
      "Processing file at datasets/NewsGroups-XML/train/bunch1/15753...\n",
      "Processing file at datasets/NewsGroups-XML/train/bunch1/15792...\n",
      "Processing file at datasets/NewsGroups-XML/train/bunch1/15835...\n",
      "Processing file at datasets/NewsGroups-XML/train/bunch1/15837...\n",
      "Processing file at datasets/NewsGroups-XML/train/bunch1/15902...\n",
      "Processing file at datasets/NewsGroups-XML/train/bunch1/15955...\n",
      "Processing file at datasets/NewsGroups-XML/train/bunch1/15959...\n",
      "Processing file at datasets/NewsGroups-XML/train/bunch1/15969...\n",
      "Processing file at datasets/NewsGroups-XML/train/bunch1/16004...\n",
      "Processing file at datasets/NewsGroups-XML/train/bunch1/16006...\n",
      "Processing file at datasets/NewsGroups-XML/train/bunch1/16018...\n",
      "Processing file at datasets/NewsGroups-XML/train/bunch1/16042...\n",
      "Processing file at datasets/NewsGroups-XML/train/bunch1/16045...\n",
      "Processing file at datasets/NewsGroups-XML/train/bunch1/16059...\n",
      "Processing file at datasets/NewsGroups-XML/train/bunch1/16077...\n",
      "Processing file at datasets/NewsGroups-XML/train/bunch1/16084...\n",
      "Processing file at datasets/NewsGroups-XML/train/bunch1/16122...\n",
      "Processing file at datasets/NewsGroups-XML/train/bunch1/16132...\n",
      "Processing file at datasets/NewsGroups-XML/train/bunch1/16134...\n",
      "Processing file at datasets/NewsGroups-XML/train/bunch1/16135...\n",
      "Processing file at datasets/NewsGroups-XML/train/bunch1/16143...\n",
      "Processing file at datasets/NewsGroups-XML/train/bunch1/16152...\n",
      "Processing file at datasets/NewsGroups-XML/train/bunch1/16165...\n",
      "Processing file at datasets/NewsGroups-XML/train/bunch1/16345...\n",
      "Processing file at datasets/NewsGroups-XML/train/bunch1/20526...\n",
      "Processing file at datasets/NewsGroups-XML/train/bunch1/20835...\n",
      "Processing file at datasets/NewsGroups-XML/train/bunch1/20901...\n",
      "Processing file at datasets/NewsGroups-XML/train/bunch1/20902...\n",
      "Processing file at datasets/NewsGroups-XML/train/bunch1/21314...\n",
      "Processing file at datasets/NewsGroups-XML/train/bunch1/21378...\n",
      "Processing file at datasets/NewsGroups-XML/train/bunch1/21418...\n",
      "Processing file at datasets/NewsGroups-XML/train/bunch1/21445...\n",
      "Processing file at datasets/NewsGroups-XML/train/bunch1/21451...\n",
      "Processing file at datasets/NewsGroups-XML/train/bunch1/21590...\n",
      "Processing file at datasets/NewsGroups-XML/train/bunch1/21609...\n",
      "Processing file at datasets/NewsGroups-XML/train/bunch1/21610...\n",
      "Processing file at datasets/NewsGroups-XML/train/bunch1/21701...\n",
      "Processing file at datasets/NewsGroups-XML/train/bunch1/21721...\n",
      "Processing file at datasets/NewsGroups-XML/train/bunch1/21723...\n",
      "Processing file at datasets/NewsGroups-XML/train/bunch1/21731...\n",
      "Processing file at datasets/NewsGroups-XML/train/bunch1/21769...\n",
      "Processing file at datasets/NewsGroups-XML/train/bunch1/21795...\n",
      "Processing file at datasets/NewsGroups-XML/train/bunch1/21799...\n",
      "Processing file at datasets/NewsGroups-XML/train/bunch1/21803...\n",
      "Processing file at datasets/NewsGroups-XML/train/bunch1/102682...\n",
      "Processing file at datasets/NewsGroups-XML/train/bunch1/102771...\n",
      "Processing file at datasets/NewsGroups-XML/train/bunch1/102827...\n",
      "Processing file at datasets/NewsGroups-XML/train/bunch1/102831...\n",
      "Processing file at datasets/NewsGroups-XML/train/bunch1/102959...\n",
      "Processing file at datasets/NewsGroups-XML/train/bunch1/102967...\n",
      "Processing file at datasets/NewsGroups-XML/train/bunch1/103028...\n",
      "Processing file at datasets/NewsGroups-XML/train/bunch1/103047...\n",
      "Processing file at datasets/NewsGroups-XML/train/bunch1/103081...\n",
      "Processing file at datasets/NewsGroups-XML/train/bunch1/103085...\n",
      "Processing file at datasets/NewsGroups-XML/train/bunch1/103120...\n",
      "Processing file at datasets/NewsGroups-XML/train/bunch1/103126...\n",
      "Processing file at datasets/NewsGroups-XML/train/bunch1/103157...\n",
      "Processing file at datasets/NewsGroups-XML/train/bunch1/103172...\n",
      "Processing file at datasets/NewsGroups-XML/train/bunch1/103260...\n",
      "Processing file at datasets/NewsGroups-XML/train/bunch1/103284...\n",
      "Processing file at datasets/NewsGroups-XML/train/bunch1/103310...\n",
      "Processing file at datasets/NewsGroups-XML/train/bunch1/103350...\n",
      "Processing file at datasets/NewsGroups-XML/train/bunch1/103387...\n",
      "Processing file at datasets/NewsGroups-XML/train/bunch1/103432...\n",
      "Processing file at datasets/NewsGroups-XML/train/bunch1/103521...\n",
      "Processing file at datasets/NewsGroups-XML/train/bunch1/103657...\n",
      "Processing file at datasets/NewsGroups-XML/train/bunch1/103663...\n",
      "Processing file at datasets/NewsGroups-XML/train/bunch1/103664...\n",
      "Processing file at datasets/NewsGroups-XML/train/bunch1/103714...\n",
      "Processing file at datasets/NewsGroups-XML/train/bunch1/103715...\n",
      "Processing file at datasets/NewsGroups-XML/train/bunch1/103732...\n",
      "Processing file at datasets/NewsGroups-XML/train/bunch1/103766...\n",
      "Processing file at datasets/NewsGroups-XML/train/bunch1/103778...\n",
      "Processing file at datasets/NewsGroups-XML/train/bunch1/104413...\n",
      "Processing file at datasets/NewsGroups-XML/train/bunch1/104420...\n",
      "Processing file at datasets/NewsGroups-XML/train/bunch1/104433...\n",
      "Processing file at datasets/NewsGroups-XML/train/bunch1/104445...\n",
      "Processing file at datasets/NewsGroups-XML/train/bunch1/104545...\n",
      "Processing file at datasets/NewsGroups-XML/train/bunch1/104600...\n",
      "Processing file at datasets/NewsGroups-XML/train/bunch1/104609...\n",
      "Processing file at datasets/NewsGroups-XML/train/bunch1/104610...\n",
      "Processing file at datasets/NewsGroups-XML/train/bunch1/104626...\n",
      "Processing file at datasets/NewsGroups-XML/train/bunch1/104654...\n",
      "Processing file at datasets/NewsGroups-XML/train/bunch1/104692...\n",
      "Processing file at datasets/NewsGroups-XML/train/bunch1/104698...\n",
      "Processing file at datasets/NewsGroups-XML/train/bunch1/104711...\n",
      "Processing file at datasets/NewsGroups-XML/train/bunch1/104712...\n",
      "Processing file at datasets/NewsGroups-XML/train/bunch1/104713...\n",
      "Processing file at datasets/NewsGroups-XML/train/bunch1/104714...\n",
      "Processing file at datasets/NewsGroups-XML/train/bunch1/104719...\n",
      "Processing file at datasets/NewsGroups-XML/train/bunch1/104752...\n",
      "Processing file at datasets/NewsGroups-XML/train/bunch1/104759...\n",
      "Processing file at datasets/NewsGroups-XML/train/bunch1/104760...\n",
      "Processing file at datasets/NewsGroups-XML/train/bunch1/104773...\n",
      "Processing file at datasets/NewsGroups-XML/train/bunch1/104788...\n",
      "Processing file at datasets/NewsGroups-XML/train/bunch1/104804...\n",
      "Processing file at datasets/NewsGroups-XML/train/bunch1/104811...\n",
      "Processing file at datasets/NewsGroups-XML/train/bunch1/104842...\n",
      "Processing file at datasets/NewsGroups-XML/train/bunch1/104844...\n",
      "Processing file at datasets/NewsGroups-XML/train/bunch1/104845...\n",
      "Processing file at datasets/NewsGroups-XML/train/bunch1/104858...\n",
      "Processing file at datasets/NewsGroups-XML/train/bunch1/104869...\n",
      "Processing file at datasets/NewsGroups-XML/train/bunch1/104887...\n",
      "Processing file at datasets/NewsGroups-XML/train/bunch1/104898...\n",
      "Processing file at datasets/NewsGroups-XML/train/bunch1/104899...\n",
      "Processing file at datasets/NewsGroups-XML/train/bunch1/104911...\n",
      "Processing file at datasets/NewsGroups-XML/train/bunch1/104921...\n",
      "Processing file at datasets/NewsGroups-XML/train/bunch1/104943...\n",
      "Processing file at datasets/NewsGroups-XML/train/bunch1/104949...\n",
      "Processing file at datasets/NewsGroups-XML/train/bunch1/104957...\n",
      "Processing file at datasets/NewsGroups-XML/train/bunch1/104964...\n",
      "Processing file at datasets/NewsGroups-XML/train/bunch1/104965...\n",
      "Processing file at datasets/NewsGroups-XML/train/bunch1/104971...\n",
      "Processing file at datasets/NewsGroups-XML/train/bunch1/104973...\n",
      "Processing file at datasets/NewsGroups-XML/train/bunch1/104979...\n",
      "Processing file at datasets/NewsGroups-XML/train/bunch1/104981...\n",
      "Processing file at datasets/NewsGroups-XML/train/bunch1/104982...\n",
      "Processing file at datasets/NewsGroups-XML/train/bunch1/104986...\n",
      "Processing file at datasets/NewsGroups-XML/train/bunch1/104989...\n",
      "Processing file at datasets/NewsGroups-XML/train/bunch1/104991...\n",
      "Processing file at datasets/NewsGroups-XML/train/bunch1/104998...\n",
      "Processing file at datasets/NewsGroups-XML/train/bunch1/105009...\n",
      "Processing file at datasets/NewsGroups-XML/train/bunch1/105010...\n",
      "Processing file at datasets/NewsGroups-XML/train/bunch1/105012...\n",
      "Processing file at datasets/NewsGroups-XML/train/bunch1/105013...\n",
      "Processing file at datasets/NewsGroups-XML/train/bunch1/105050...\n",
      "Processing file at datasets/NewsGroups-XML/train/bunch1/105051...\n",
      "Processing file at datasets/NewsGroups-XML/train/bunch1/105077...\n",
      "Processing file at datasets/NewsGroups-XML/train/bunch1/105079...\n",
      "Processing file at datasets/NewsGroups-XML/train/bunch1/105080...\n",
      "Processing file at datasets/NewsGroups-XML/train/bunch1/105084...\n",
      "Processing file at datasets/NewsGroups-XML/train/bunch1/105104...\n",
      "Processing file at datasets/NewsGroups-XML/train/bunch1/105109...\n",
      "Processing file at datasets/NewsGroups-XML/train/bunch1/105118...\n",
      "Processing file at datasets/NewsGroups-XML/train/bunch1/105121...\n",
      "Processing file at datasets/NewsGroups-XML/train/bunch1/105124...\n",
      "Processing file at datasets/NewsGroups-XML/train/bunch1/105148...\n",
      "Processing file at datasets/NewsGroups-XML/train/bunch1/105152...\n",
      "Processing file at datasets/NewsGroups-XML/train/bunch1/105162...\n",
      "Processing file at datasets/NewsGroups-XML/train/bunch1/105202...\n",
      "Processing file at datasets/NewsGroups-XML/train/bunch1/105209...\n",
      "Processing file at datasets/NewsGroups-XML/train/bunch1/105218...\n",
      "Processing file at datasets/NewsGroups-XML/train/bunch1/105228...\n",
      "Processing file at datasets/NewsGroups-XML/train/bunch1/105234...\n",
      "Processing file at datasets/NewsGroups-XML/train/bunch1/105246...\n",
      "Processing file at datasets/NewsGroups-XML/train/bunch1/105248...\n",
      "Processing file at datasets/NewsGroups-XML/train/bunch1/105254...\n",
      "Processing file at datasets/NewsGroups-XML/train/bunch1/105260...\n",
      "Processing file at datasets/NewsGroups-XML/train/bunch1/105262...\n",
      "Processing file at datasets/NewsGroups-XML/train/bunch1/105661...\n",
      "Processing file at datasets/NewsGroups-XML/train/bunch1/176878...\n",
      "Processing file at datasets/NewsGroups-XML/train/bunch1/176931...\n",
      "Processing file at datasets/NewsGroups-XML/train/bunch1/176952...\n",
      "Processing file at datasets/NewsGroups-XML/train/bunch1/178428...\n",
      "Processing file at datasets/NewsGroups-XML/train/bunch1/178437...\n",
      "Processing file at datasets/NewsGroups-XML/train/bunch1/178483...\n",
      "Processing file at datasets/NewsGroups-XML/train/bunch1/178490...\n",
      "Processing file at datasets/NewsGroups-XML/train/bunch1/178507...\n",
      "Processing file at datasets/NewsGroups-XML/train/bunch1/178511...\n",
      "Processing file at datasets/NewsGroups-XML/train/bunch1/178593...\n",
      "Processing file at datasets/NewsGroups-XML/train/bunch1/178623...\n",
      "Processing file at datasets/NewsGroups-XML/train/bunch1/178840...\n",
      "Processing file at datasets/NewsGroups-XML/train/bunch1/178884...\n",
      "Processing file at datasets/NewsGroups-XML/train/bunch1/178901...\n",
      "Processing file at datasets/NewsGroups-XML/train/bunch1/178941...\n",
      "Processing file at datasets/NewsGroups-XML/train/bunch1/178959...\n",
      "Processing file at datasets/NewsGroups-XML/train/bunch1/178967...\n",
      "Processing file at datasets/NewsGroups-XML/train/bunch1/178974...\n",
      "Processing file at datasets/NewsGroups-XML/train/bunch1/179037...\n",
      "Processing file at datasets/NewsGroups-XML/train/bunch1/179041...\n",
      "Processing file at datasets/NewsGroups-XML/train/bunch1/179059...\n",
      "Processing file at datasets/NewsGroups-XML/train/bunch1/179071...\n",
      "Processing file at datasets/NewsGroups-XML/train/bunch1/179082...\n",
      "Processing file at datasets/NewsGroups-XML/train/bunch1/179096...\n",
      "Processing file at datasets/NewsGroups-XML/train/bunch1/179108...\n",
      "Processing file at datasets/NewsGroups-XML/train/bunch2/38348...\n",
      "Processing file at datasets/NewsGroups-XML/train/bunch2/38380...\n",
      "Processing file at datasets/NewsGroups-XML/train/bunch2/38427...\n",
      "Processing file at datasets/NewsGroups-XML/train/bunch2/38497...\n",
      "Processing file at datasets/NewsGroups-XML/train/bunch2/38511...\n",
      "Processing file at datasets/NewsGroups-XML/train/bunch2/38539...\n",
      "Processing file at datasets/NewsGroups-XML/train/bunch2/38559...\n",
      "Processing file at datasets/NewsGroups-XML/train/bunch2/38567...\n",
      "Processing file at datasets/NewsGroups-XML/train/bunch2/38573...\n",
      "Processing file at datasets/NewsGroups-XML/train/bunch2/38710...\n",
      "Processing file at datasets/NewsGroups-XML/train/bunch2/38735...\n",
      "Processing file at datasets/NewsGroups-XML/train/bunch2/38806...\n",
      "Processing file at datasets/NewsGroups-XML/train/bunch2/38813...\n",
      "Processing file at datasets/NewsGroups-XML/train/bunch2/38828...\n",
      "Processing file at datasets/NewsGroups-XML/train/bunch2/38830...\n",
      "Processing file at datasets/NewsGroups-XML/train/bunch2/38846...\n",
      "Processing file at datasets/NewsGroups-XML/train/bunch2/38908...\n",
      "Processing file at datasets/NewsGroups-XML/train/bunch2/38914...\n",
      "Processing file at datasets/NewsGroups-XML/train/bunch2/38950...\n",
      "Processing file at datasets/NewsGroups-XML/train/bunch2/38956...\n",
      "Processing file at datasets/NewsGroups-XML/train/bunch2/38999...\n",
      "Processing file at datasets/NewsGroups-XML/train/bunch2/39039...\n",
      "Processing file at datasets/NewsGroups-XML/train/bunch2/39045...\n",
      "Processing file at datasets/NewsGroups-XML/train/bunch2/39047...\n",
      "Processing file at datasets/NewsGroups-XML/train/bunch2/39049...\n",
      "Processing file at datasets/NewsGroups-XML/train/bunch2/39062...\n",
      "Processing file at datasets/NewsGroups-XML/train/bunch2/39067...\n",
      "Processing file at datasets/NewsGroups-XML/train/bunch2/39641...\n",
      "Processing file at datasets/NewsGroups-XML/train/bunch2/39738...\n",
      "Processing file at datasets/NewsGroups-XML/train/bunch2/40027...\n",
      "Processing file at datasets/NewsGroups-XML/train/bunch2/50426...\n",
      "Processing file at datasets/NewsGroups-XML/train/bunch2/50461...\n",
      "Processing file at datasets/NewsGroups-XML/train/bunch2/50545...\n",
      "Processing file at datasets/NewsGroups-XML/train/bunch2/51505...\n",
      "Processing file at datasets/NewsGroups-XML/train/bunch2/51635...\n",
      "Processing file at datasets/NewsGroups-XML/train/bunch2/51662...\n",
      "Processing file at datasets/NewsGroups-XML/train/bunch2/51684...\n",
      "Processing file at datasets/NewsGroups-XML/train/bunch2/51704...\n",
      "Processing file at datasets/NewsGroups-XML/train/bunch2/51721...\n",
      "Processing file at datasets/NewsGroups-XML/train/bunch2/51778...\n",
      "Processing file at datasets/NewsGroups-XML/train/bunch2/51786...\n",
      "Processing file at datasets/NewsGroups-XML/train/bunch2/51810...\n",
      "Processing file at datasets/NewsGroups-XML/train/bunch2/51890...\n",
      "Processing file at datasets/NewsGroups-XML/train/bunch2/51948...\n",
      "Processing file at datasets/NewsGroups-XML/train/bunch2/51951...\n",
      "Processing file at datasets/NewsGroups-XML/train/bunch2/51960...\n",
      "Processing file at datasets/NewsGroups-XML/train/bunch2/51965...\n",
      "Processing file at datasets/NewsGroups-XML/train/bunch2/51969...\n",
      "Processing file at datasets/NewsGroups-XML/train/bunch2/51974...\n",
      "Processing file at datasets/NewsGroups-XML/train/bunch2/51988...\n",
      "Processing file at datasets/NewsGroups-XML/train/bunch2/52008...\n",
      "Processing file at datasets/NewsGroups-XML/train/bunch2/52022...\n",
      "Processing file at datasets/NewsGroups-XML/train/bunch2/52085...\n",
      "Processing file at datasets/NewsGroups-XML/train/bunch2/52097...\n",
      "Processing file at datasets/NewsGroups-XML/train/bunch2/52105...\n",
      "Processing file at datasets/NewsGroups-XML/train/bunch2/52172...\n",
      "Processing file at datasets/NewsGroups-XML/train/bunch2/52173...\n",
      "Processing file at datasets/NewsGroups-XML/train/bunch2/52189...\n",
      "Processing file at datasets/NewsGroups-XML/train/bunch2/52228...\n",
      "Processing file at datasets/NewsGroups-XML/train/bunch2/52271...\n",
      "Processing file at datasets/NewsGroups-XML/train/bunch2/52273...\n",
      "Processing file at datasets/NewsGroups-XML/train/bunch2/52300...\n",
      "Processing file at datasets/NewsGroups-XML/train/bunch2/52306...\n",
      "Processing file at datasets/NewsGroups-XML/train/bunch2/52329...\n",
      "Processing file at datasets/NewsGroups-XML/train/bunch2/52332...\n",
      "Processing file at datasets/NewsGroups-XML/train/bunch2/52582...\n",
      "Processing file at datasets/NewsGroups-XML/train/bunch2/52589...\n",
      "Processing file at datasets/NewsGroups-XML/train/bunch2/52813...\n",
      "Processing file at datasets/NewsGroups-XML/train/bunch2/53214...\n",
      "Processing file at datasets/NewsGroups-XML/train/bunch2/53308...\n",
      "Processing file at datasets/NewsGroups-XML/train/bunch2/53328...\n",
      "Processing file at datasets/NewsGroups-XML/train/bunch2/53373...\n",
      "Processing file at datasets/NewsGroups-XML/train/bunch2/53504...\n",
      "Processing file at datasets/NewsGroups-XML/train/bunch2/53540...\n",
      "Processing file at datasets/NewsGroups-XML/train/bunch2/53574...\n",
      "Processing file at datasets/NewsGroups-XML/train/bunch2/53606...\n",
      "Processing file at datasets/NewsGroups-XML/train/bunch2/53725...\n",
      "Processing file at datasets/NewsGroups-XML/train/bunch2/53774...\n",
      "Processing file at datasets/NewsGroups-XML/train/bunch2/53792...\n",
      "Processing file at datasets/NewsGroups-XML/train/bunch2/53825...\n",
      "Processing file at datasets/NewsGroups-XML/train/bunch2/53874...\n",
      "Processing file at datasets/NewsGroups-XML/train/bunch2/53890...\n",
      "Processing file at datasets/NewsGroups-XML/train/bunch2/53924...\n",
      "Processing file at datasets/NewsGroups-XML/train/bunch2/53928...\n",
      "Processing file at datasets/NewsGroups-XML/train/bunch2/53956...\n",
      "Processing file at datasets/NewsGroups-XML/train/bunch2/53964...\n",
      "Processing file at datasets/NewsGroups-XML/train/bunch2/53978...\n",
      "Processing file at datasets/NewsGroups-XML/train/bunch2/53983...\n",
      "Processing file at datasets/NewsGroups-XML/train/bunch2/53996...\n",
      "Processing file at datasets/NewsGroups-XML/train/bunch2/53998...\n",
      "Processing file at datasets/NewsGroups-XML/train/bunch2/54002...\n",
      "Processing file at datasets/NewsGroups-XML/train/bunch2/54043...\n",
      "Processing file at datasets/NewsGroups-XML/train/bunch2/54044...\n",
      "Processing file at datasets/NewsGroups-XML/train/bunch2/54048...\n",
      "Processing file at datasets/NewsGroups-XML/train/bunch2/54053...\n",
      "Processing file at datasets/NewsGroups-XML/train/bunch2/54058...\n",
      "Processing file at datasets/NewsGroups-XML/train/bunch2/54068...\n",
      "Processing file at datasets/NewsGroups-XML/train/bunch2/54086...\n",
      "Processing file at datasets/NewsGroups-XML/train/bunch2/54096...\n",
      "Processing file at datasets/NewsGroups-XML/train/bunch2/54148...\n",
      "Processing file at datasets/NewsGroups-XML/train/bunch2/54155...\n",
      "Processing file at datasets/NewsGroups-XML/train/bunch2/54171...\n",
      "Processing file at datasets/NewsGroups-XML/train/bunch2/54176...\n",
      "Processing file at datasets/NewsGroups-XML/train/bunch2/54192...\n",
      "Processing file at datasets/NewsGroups-XML/train/bunch2/54194...\n",
      "Processing file at datasets/NewsGroups-XML/train/bunch2/54213...\n",
      "Processing file at datasets/NewsGroups-XML/train/bunch2/54222...\n",
      "Processing file at datasets/NewsGroups-XML/train/bunch2/54227...\n",
      "Processing file at datasets/NewsGroups-XML/train/bunch2/54235...\n",
      "Processing file at datasets/NewsGroups-XML/train/bunch2/54241...\n",
      "Processing file at datasets/NewsGroups-XML/train/bunch2/54243...\n",
      "Processing file at datasets/NewsGroups-XML/train/bunch2/54251...\n",
      "Processing file at datasets/NewsGroups-XML/train/bunch2/54256...\n",
      "Processing file at datasets/NewsGroups-XML/train/bunch2/54257...\n",
      "Processing file at datasets/NewsGroups-XML/train/bunch2/54262...\n",
      "Processing file at datasets/NewsGroups-XML/train/bunch2/54266...\n",
      "Processing file at datasets/NewsGroups-XML/train/bunch2/54280...\n",
      "Processing file at datasets/NewsGroups-XML/train/bunch2/54292...\n",
      "Processing file at datasets/NewsGroups-XML/train/bunch2/54299...\n",
      "Processing file at datasets/NewsGroups-XML/train/bunch2/54301...\n",
      "Processing file at datasets/NewsGroups-XML/train/bunch2/54328...\n",
      "Processing file at datasets/NewsGroups-XML/train/bunch2/54338...\n",
      "Processing file at datasets/NewsGroups-XML/train/bunch2/54344...\n",
      "Processing file at datasets/NewsGroups-XML/train/bunch2/54356...\n",
      "Processing file at datasets/NewsGroups-XML/train/bunch2/54358...\n",
      "Processing file at datasets/NewsGroups-XML/train/bunch2/54412...\n",
      "Processing file at datasets/NewsGroups-XML/train/bunch2/54489...\n",
      "Processing file at datasets/NewsGroups-XML/train/bunch2/54500...\n",
      "Processing file at datasets/NewsGroups-XML/train/bunch2/54507...\n",
      "Processing file at datasets/NewsGroups-XML/train/bunch2/54541...\n",
      "Processing file at datasets/NewsGroups-XML/train/bunch2/54651...\n",
      "Processing file at datasets/NewsGroups-XML/train/bunch2/54673...\n",
      "Processing file at datasets/NewsGroups-XML/train/bunch2/54711...\n",
      "Processing file at datasets/NewsGroups-XML/train/bunch2/54739...\n",
      "Processing file at datasets/NewsGroups-XML/train/bunch2/54744...\n",
      "Processing file at datasets/NewsGroups-XML/train/bunch2/54747...\n",
      "Processing file at datasets/NewsGroups-XML/train/bunch2/54750...\n",
      "Processing file at datasets/NewsGroups-XML/train/bunch2/54754...\n",
      "Processing file at datasets/NewsGroups-XML/train/bunch2/54836...\n",
      "Processing file at datasets/NewsGroups-XML/train/bunch2/54873...\n",
      "Processing file at datasets/NewsGroups-XML/train/bunch2/54883...\n",
      "Processing file at datasets/NewsGroups-XML/train/bunch2/55037...\n",
      "Processing file at datasets/NewsGroups-XML/train/bunch2/55038...\n",
      "Processing file at datasets/NewsGroups-XML/train/bunch2/55074...\n",
      "Processing file at datasets/NewsGroups-XML/train/bunch2/55102...\n",
      "Processing file at datasets/NewsGroups-XML/train/bunch2/55233...\n",
      "Processing file at datasets/NewsGroups-XML/train/bunch2/55235...\n",
      "Processing file at datasets/NewsGroups-XML/train/bunch2/55249...\n",
      "Processing file at datasets/NewsGroups-XML/train/bunch2/55259...\n",
      "Processing file at datasets/NewsGroups-XML/train/bunch2/55262...\n",
      "Processing file at datasets/NewsGroups-XML/train/bunch2/55268...\n",
      "Processing file at datasets/NewsGroups-XML/train/bunch2/55269...\n",
      "Processing file at datasets/NewsGroups-XML/train/bunch2/55272...\n",
      "Processing file at datasets/NewsGroups-XML/train/bunch2/55467...\n",
      "Processing file at datasets/NewsGroups-XML/train/bunch2/55474...\n",
      "Processing file at datasets/NewsGroups-XML/train/bunch2/58758...\n",
      "Processing file at datasets/NewsGroups-XML/train/bunch2/58857...\n",
      "Processing file at datasets/NewsGroups-XML/train/bunch2/58917...\n",
      "Processing file at datasets/NewsGroups-XML/train/bunch2/58936...\n",
      "Processing file at datasets/NewsGroups-XML/train/bunch2/58963...\n",
      "Processing file at datasets/NewsGroups-XML/train/bunch2/59113...\n",
      "Processing file at datasets/NewsGroups-XML/train/bunch2/59152...\n",
      "Processing file at datasets/NewsGroups-XML/train/bunch2/59188...\n",
      "Processing file at datasets/NewsGroups-XML/train/bunch2/59235...\n",
      "Processing file at datasets/NewsGroups-XML/train/bunch2/59250...\n",
      "Processing file at datasets/NewsGroups-XML/train/bunch2/59396...\n",
      "Processing file at datasets/NewsGroups-XML/train/bunch2/59403...\n",
      "Processing file at datasets/NewsGroups-XML/train/bunch2/59424...\n",
      "Processing file at datasets/NewsGroups-XML/train/bunch2/59447...\n",
      "Processing file at datasets/NewsGroups-XML/train/bunch2/59486...\n",
      "Processing file at datasets/NewsGroups-XML/train/bunch2/59527...\n",
      "Processing file at datasets/NewsGroups-XML/train/bunch2/59583...\n",
      "Processing file at datasets/NewsGroups-XML/train/bunch2/59600...\n",
      "Processing file at datasets/NewsGroups-XML/train/bunch2/59621...\n",
      "Processing file at datasets/NewsGroups-XML/train/bunch2/59625...\n",
      "Processing file at datasets/NewsGroups-XML/train/bunch2/59648...\n",
      "Processing file at datasets/NewsGroups-XML/train/bunch2/59652...\n",
      "Processing file at datasets/NewsGroups-XML/train/bunch3a/9464...\n",
      "Processing file at datasets/NewsGroups-XML/train/bunch3a/9469...\n",
      "Processing file at datasets/NewsGroups-XML/train/bunch3a/9518...\n",
      "Processing file at datasets/NewsGroups-XML/train/bunch3a/9545...\n",
      "Processing file at datasets/NewsGroups-XML/train/bunch3a/9596...\n",
      "Processing file at datasets/NewsGroups-XML/train/bunch3a/9605...\n",
      "Processing file at datasets/NewsGroups-XML/train/bunch3a/9623...\n",
      "Processing file at datasets/NewsGroups-XML/train/bunch3a/9624...\n",
      "Processing file at datasets/NewsGroups-XML/train/bunch3a/9632...\n",
      "Processing file at datasets/NewsGroups-XML/train/bunch3a/9653...\n",
      "Processing file at datasets/NewsGroups-XML/train/bunch3a/9659...\n",
      "Processing file at datasets/NewsGroups-XML/train/bunch3a/9684...\n",
      "Processing file at datasets/NewsGroups-XML/train/bunch3a/9687...\n",
      "Processing file at datasets/NewsGroups-XML/train/bunch3a/9707...\n",
      "Processing file at datasets/NewsGroups-XML/train/bunch3a/9711...\n",
      "Processing file at datasets/NewsGroups-XML/train/bunch3a/9727...\n",
      "Processing file at datasets/NewsGroups-XML/train/bunch3a/9741...\n",
      "Processing file at datasets/NewsGroups-XML/train/bunch3a/9751...\n",
      "Processing file at datasets/NewsGroups-XML/train/bunch3a/9814...\n",
      "Processing file at datasets/NewsGroups-XML/train/bunch3a/9817...\n",
      "Processing file at datasets/NewsGroups-XML/train/bunch3a/9846...\n",
      "Processing file at datasets/NewsGroups-XML/train/bunch3a/9852...\n",
      "Processing file at datasets/NewsGroups-XML/train/bunch3a/9854...\n",
      "Processing file at datasets/NewsGroups-XML/train/bunch3a/9856...\n",
      "Processing file at datasets/NewsGroups-XML/train/bunch3a/9864...\n",
      "Processing file at datasets/NewsGroups-XML/train/bunch3a/9883...\n",
      "Processing file at datasets/NewsGroups-XML/train/bunch3a/9892...\n",
      "Processing file at datasets/NewsGroups-XML/train/bunch3a/9931...\n",
      "Processing file at datasets/NewsGroups-XML/train/bunch3a/9933...\n",
      "Processing file at datasets/NewsGroups-XML/train/bunch3a/9936...\n",
      "Processing file at datasets/NewsGroups-XML/train/bunch3a/9955...\n",
      "Processing file at datasets/NewsGroups-XML/train/bunch3a/9960...\n",
      "Processing file at datasets/NewsGroups-XML/train/bunch3a/9973...\n",
      "Processing file at datasets/NewsGroups-XML/train/bunch3a/60358...\n",
      "Processing file at datasets/NewsGroups-XML/train/bunch3a/60363...\n",
      "Processing file at datasets/NewsGroups-XML/train/bunch3a/60485...\n",
      "Processing file at datasets/NewsGroups-XML/train/bunch3a/60515...\n",
      "Processing file at datasets/NewsGroups-XML/train/bunch3a/60552...\n",
      "Processing file at datasets/NewsGroups-XML/train/bunch3a/60554...\n",
      "Processing file at datasets/NewsGroups-XML/train/bunch3a/60747...\n",
      "Processing file at datasets/NewsGroups-XML/train/bunch3a/60774...\n",
      "Processing file at datasets/NewsGroups-XML/train/bunch3a/60793...\n",
      "Processing file at datasets/NewsGroups-XML/train/bunch3a/60808...\n",
      "Processing file at datasets/NewsGroups-XML/train/bunch3a/60834...\n",
      "Processing file at datasets/NewsGroups-XML/train/bunch3a/60862...\n",
      "Processing file at datasets/NewsGroups-XML/train/bunch3a/60864...\n",
      "Processing file at datasets/NewsGroups-XML/train/bunch3a/60872...\n",
      "Processing file at datasets/NewsGroups-XML/train/bunch3a/60879...\n",
      "Processing file at datasets/NewsGroups-XML/train/bunch3a/60898...\n",
      "Processing file at datasets/NewsGroups-XML/train/bunch3a/60908...\n",
      "Processing file at datasets/NewsGroups-XML/train/bunch3a/60913...\n",
      "Processing file at datasets/NewsGroups-XML/train/bunch3a/60949...\n",
      "Processing file at datasets/NewsGroups-XML/train/bunch3a/60955...\n",
      "Processing file at datasets/NewsGroups-XML/train/bunch3a/60963...\n",
      "Processing file at datasets/NewsGroups-XML/train/bunch3a/60971...\n",
      "Processing file at datasets/NewsGroups-XML/train/bunch3a/61030...\n",
      "Processing file at datasets/NewsGroups-XML/train/bunch3a/61036...\n",
      "Processing file at datasets/NewsGroups-XML/train/bunch3a/61062...\n",
      "Processing file at datasets/NewsGroups-XML/train/bunch3a/61075...\n",
      "Processing file at datasets/NewsGroups-XML/train/bunch3a/61081...\n",
      "Processing file at datasets/NewsGroups-XML/train/bunch3a/61082...\n",
      "Processing file at datasets/NewsGroups-XML/train/bunch3a/61087...\n",
      "Processing file at datasets/NewsGroups-XML/train/bunch3a/61093...\n",
      "Processing file at datasets/NewsGroups-XML/train/bunch3a/61122...\n",
      "Processing file at datasets/NewsGroups-XML/train/bunch3a/61142...\n",
      "Processing file at datasets/NewsGroups-XML/train/bunch3a/61165...\n",
      "Processing file at datasets/NewsGroups-XML/train/bunch3a/61167...\n",
      "Processing file at datasets/NewsGroups-XML/train/bunch3a/61169...\n",
      "Processing file at datasets/NewsGroups-XML/train/bunch3a/61176...\n",
      "Processing file at datasets/NewsGroups-XML/train/bunch3a/61187...\n",
      "Processing file at datasets/NewsGroups-XML/train/bunch3a/61202...\n",
      "Processing file at datasets/NewsGroups-XML/train/bunch3a/61222...\n",
      "Processing file at datasets/NewsGroups-XML/train/bunch3a/61225...\n",
      "Processing file at datasets/NewsGroups-XML/train/bunch3a/61236...\n",
      "Processing file at datasets/NewsGroups-XML/train/bunch3a/61310...\n",
      "Processing file at datasets/NewsGroups-XML/train/bunch3a/61373...\n",
      "Processing file at datasets/NewsGroups-XML/train/bunch3a/61396...\n",
      "Processing file at datasets/NewsGroups-XML/train/bunch3a/61449...\n",
      "Processing file at datasets/NewsGroups-XML/train/bunch3a/61478...\n",
      "Processing file at datasets/NewsGroups-XML/train/bunch3a/61484...\n",
      "Processing file at datasets/NewsGroups-XML/train/bunch3a/61494...\n",
      "Processing file at datasets/NewsGroups-XML/train/bunch3a/61495...\n",
      "Processing file at datasets/NewsGroups-XML/train/bunch3a/61524...\n",
      "Processing file at datasets/NewsGroups-XML/train/bunch3a/62394...\n",
      "Processing file at datasets/NewsGroups-XML/train/bunch3a/62420...\n",
      "Processing file at datasets/NewsGroups-XML/train/bunch3a/62452...\n",
      "Processing file at datasets/NewsGroups-XML/train/bunch3a/62475...\n",
      "Processing file at datasets/NewsGroups-XML/train/bunch3a/62476...\n",
      "Processing file at datasets/NewsGroups-XML/train/bunch3a/62616...\n",
      "Processing file at datasets/NewsGroups-XML/train/bunch3a/66439...\n",
      "Processing file at datasets/NewsGroups-XML/train/bunch3a/66464...\n",
      "Processing file at datasets/NewsGroups-XML/train/bunch3a/66885...\n",
      "Processing file at datasets/NewsGroups-XML/train/bunch3a/66889...\n",
      "Processing file at datasets/NewsGroups-XML/train/bunch3a/66965...\n",
      "Processing file at datasets/NewsGroups-XML/train/bunch3a/66998...\n",
      "Processing file at datasets/NewsGroups-XML/train/bunch3a/67014...\n",
      "Processing file at datasets/NewsGroups-XML/train/bunch3a/67068...\n",
      "Processing file at datasets/NewsGroups-XML/train/bunch3a/67154...\n",
      "Processing file at datasets/NewsGroups-XML/train/bunch3a/67205...\n",
      "Processing file at datasets/NewsGroups-XML/train/bunch3a/67206...\n"
     ]
    }
   ],
   "source": [
    "train_path = \"datasets/NewsGroups-XML/train\"\n",
    "news_groups_train_folders = os.listdir(train_path)\n",
    "\n",
    "sentences = []\n",
    "from_features = []\n",
    "labels = []\n",
    "bigram_features = []\n",
    "capitalized_features = []\n",
    "\n",
    "for folder in news_groups_train_folders:\n",
    "    for file in os.listdir(f\"{train_path}/{folder}\"):\n",
    "        file_path = f\"{train_path}/{folder}/{file}\"\n",
    "        print(f\"Processing file at {file_path}...\")\n",
    "        lines = []\n",
    "        all_context = \"\"\n",
    "        with open(file_path, mode=\"r+\") as f:\n",
    "            for line in f.readlines():\n",
    "                if line.strip() != \"\":\n",
    "                    lines.append(line.strip())\n",
    "                    all_context += line.strip() + \" \"\n",
    "        \n",
    "        for line in lines:\n",
    "            ex_sentence = line\n",
    "            ex_sentence = ex_sentence.replace(\"<true_name> \", \"<true_name>\")\n",
    "            ex_sentence = ex_sentence.replace(\" </true_name>\", \"</true_name>\")\n",
    "            #print(ex_sentence)\n",
    "            word_tags = pos_tag(custom_word_tokenize(ex_sentence))\n",
    "            #print(word_tags)\n",
    "            # process the line, don't take unnecessary words to the training.\n",
    "            processed_sentence = []\n",
    "            is_from_feature = []\n",
    "            is_name_label = []\n",
    "            bigram_feature = []\n",
    "            capitalize_feature = []\n",
    "        \n",
    "            for word, tag in word_tags:\n",
    "                #print(word, tag, tag == '.')\n",
    "                if not (tag == '.' or tag == ':' or tag == ')' or tag == '(' or word == '*' or word.count('.')>1 or word == '``'):\n",
    "                    if not word.endswith('.com'):\n",
    "                        if not '@' in word:\n",
    "                            if '<true_name>' in word:\n",
    "                                new_word = word.replace(\"<true_name>\", \"\")\n",
    "                                new_word = new_word.replace(\"</true_name>\", \"\")\n",
    "                                new_word = new_word.strip()\n",
    "                                for name in new_word.split(\" \"):\n",
    "                                    if name.isalpha():\n",
    "                                        #print(name, name.isalpha(), is_word_appearing_in_the_from(name, ex_sentence), \"is_name\")\n",
    "                                        processed_sentence.append(name)\n",
    "                                        is_from_feature.append(1 if is_word_appearing_in_the_from(name, ex_sentence) else 0)\n",
    "                                        is_name_label.append(1)\n",
    "                                        bigram_feature.append(1 if followed_by_and_I(name, all_context) else 0)\n",
    "                                        capitalize_feature.append(1 if is_word_capitalized(name) else 0)\n",
    "                            else:\n",
    "                                #print(word, word.isalpha(), is_word_appearing_in_the_from(word, ex_sentence))\n",
    "                                processed_sentence.append(word)\n",
    "                                is_from_feature.append(1 if is_word_appearing_in_the_from(word, ex_sentence) else 0)\n",
    "                                is_name_label.append(0)\n",
    "                                bigram_feature.append(1 if followed_by_and_I(word, all_context) else 0)\n",
    "                                capitalize_feature.append(1 if is_word_capitalized(word) else 0)\n",
    "        \n",
    "            bigram_features.append(bigram_feature)\n",
    "            labels.append(is_name_label)\n",
    "            sentences.append(processed_sentence)\n",
    "            from_features.append(is_from_feature)\n",
    "            capitalized_features.append(capitalize_feature)"
   ],
   "metadata": {
    "collapsed": false,
    "ExecuteTime": {
     "end_time": "2024-01-17T08:09:28.196525099Z",
     "start_time": "2024-01-17T08:09:18.974428935Z"
    }
   },
   "id": "c2128a556ded1275"
  },
  {
   "cell_type": "code",
   "execution_count": 4,
   "outputs": [
    {
     "data": {
      "text/plain": "16967"
     },
     "execution_count": 4,
     "metadata": {},
     "output_type": "execute_result"
    }
   ],
   "source": [
    "# find features for every word in the e-mail sentences.\n",
    "len(sentences)"
   ],
   "metadata": {
    "collapsed": false,
    "ExecuteTime": {
     "end_time": "2024-01-17T08:09:28.214696253Z",
     "start_time": "2024-01-17T08:09:28.198748264Z"
    }
   },
   "id": "26b90a5b8ccb76f5"
  },
  {
   "cell_type": "code",
   "execution_count": 5,
   "outputs": [],
   "source": [
    "words = []\n",
    "is_capital_feature = []\n",
    "is_in_from_feature = []\n",
    "is_bigram_feature = []\n",
    "real_labels = []\n",
    "\n",
    "for sentence_index, sentence in enumerate(sentences):\n",
    "    for i, word in enumerate(sentence):\n",
    "        words.append(word)\n",
    "        is_capitalized = capitalized_features[sentence_index][i]\n",
    "        is_capital_feature.append(is_capitalized)\n",
    "        \n",
    "        y = labels[sentence_index][i]\n",
    "        real_labels.append(y)\n",
    "        \n",
    "        is_bigram = bigram_features[sentence_index][i]\n",
    "        is_bigram_feature.append(is_bigram)\n",
    "        \n",
    "        is_from = from_features[sentence_index][i]\n",
    "        is_in_from_feature.append(is_from)\n",
    "        \n",
    "        \n",
    "    "
   ],
   "metadata": {
    "collapsed": false,
    "ExecuteTime": {
     "end_time": "2024-01-17T08:09:28.299565907Z",
     "start_time": "2024-01-17T08:09:28.202029407Z"
    }
   },
   "id": "2e9f01dc8a79490"
  },
  {
   "cell_type": "code",
   "execution_count": 6,
   "outputs": [],
   "source": [
    "assert len(words) == len(is_capital_feature) == len(is_in_from_feature) == len(real_labels) == len(is_bigram_feature)"
   ],
   "metadata": {
    "collapsed": false,
    "ExecuteTime": {
     "end_time": "2024-01-17T08:09:28.346864162Z",
     "start_time": "2024-01-17T08:09:28.301146330Z"
    }
   },
   "id": "6e7e4789d7a1e31c"
  },
  {
   "cell_type": "code",
   "execution_count": 7,
   "outputs": [
    {
     "data": {
      "text/plain": "(0.025897229845496035,\n 0.22948160053371341,\n 0.03959637923976165,\n 0.0013039588798083484)"
     },
     "execution_count": 7,
     "metadata": {},
     "output_type": "execute_result"
    }
   ],
   "source": [
    "# percentages of the features' existances in the training data\n",
    "np.array(real_labels).mean(), np.array(is_capital_feature).mean(), np.array(is_in_from_feature).mean(), np.array(is_bigram_feature).mean()"
   ],
   "metadata": {
    "collapsed": false,
    "ExecuteTime": {
     "end_time": "2024-01-17T08:09:28.347163217Z",
     "start_time": "2024-01-17T08:09:28.343690593Z"
    }
   },
   "id": "bdc08b60f092758a"
  },
  {
   "cell_type": "code",
   "execution_count": 8,
   "outputs": [],
   "source": [
    "word_to_index = {\"<PAD>\":0}\n",
    "for word in words:\n",
    "    if word not in word_to_index.keys():\n",
    "        word_to_index[word] = len(word_to_index)"
   ],
   "metadata": {
    "collapsed": false,
    "ExecuteTime": {
     "end_time": "2024-01-17T08:09:28.390636173Z",
     "start_time": "2024-01-17T08:09:28.345133426Z"
    }
   },
   "id": "2882a61e6f66aa3c"
  },
  {
   "cell_type": "code",
   "execution_count": 9,
   "outputs": [
    {
     "data": {
      "text/plain": "19923"
     },
     "execution_count": 9,
     "metadata": {},
     "output_type": "execute_result"
    }
   ],
   "source": [
    "len(word_to_index)"
   ],
   "metadata": {
    "collapsed": false,
    "ExecuteTime": {
     "end_time": "2024-01-17T08:09:28.434276124Z",
     "start_time": "2024-01-17T08:09:28.381756775Z"
    }
   },
   "id": "255a7173cfc2808d"
  },
  {
   "cell_type": "code",
   "execution_count": 10,
   "outputs": [],
   "source": [
    "X_indices = [word_to_index[word] for word in words]\n",
    "X_padded = torch.tensor(X_indices)\n",
    "y_tensor = torch.tensor(real_labels, dtype=torch.float32)\n",
    "is_capital_tensor = torch.tensor(is_capital_feature, dtype=torch.float32)\n",
    "is_in_from_tensor = torch.tensor(is_in_from_feature, dtype=torch.float32)\n",
    "is_bigram_tensor = torch.tensor(is_bigram_feature, dtype=torch.float32)"
   ],
   "metadata": {
    "collapsed": false,
    "ExecuteTime": {
     "end_time": "2024-01-17T08:09:28.496888302Z",
     "start_time": "2024-01-17T08:09:28.423961888Z"
    }
   },
   "id": "b6c9dcb1bd2538b4"
  },
  {
   "cell_type": "code",
   "execution_count": 121,
   "outputs": [],
   "source": [
    "class LSTMModelWithFeatures(nn.Module):\n",
    "    def __init__(self, vocab_size, embedding_dim, hidden_size, output_size):\n",
    "        super(LSTMModelWithFeatures, self).__init__()\n",
    "        self.embedding = nn.Embedding(vocab_size, embedding_dim)\n",
    "        self.lstm = nn.LSTM(embedding_dim + 3, hidden_size, batch_first=True)\n",
    "        self.fc = nn.Linear(hidden_size, output_size)\n",
    "        self.sigmoid = nn.Sigmoid()\n",
    "\n",
    "    def forward(self, x, capital, from_field, bigram):\n",
    "        word_embeddings = self.embedding(x)\n",
    "\n",
    "        # Create tensors for additional featuresS\n",
    "        capital_feature = torch.unsqueeze(capital, dim=-1).float()\n",
    "        from_field_feature = torch.unsqueeze(from_field, dim=-1).float()\n",
    "        bigram_feature = torch.unsqueeze(bigram, dim=-1).float()\n",
    "\n",
    "        # Concatenate all features with word embeddings\n",
    "        combined_features = torch.cat([word_embeddings, capital_feature, from_field_feature, bigram_feature], dim=-1)\n",
    "\n",
    "        lstm_out, _ = self.lstm(combined_features)\n",
    "        output = self.fc(lstm_out)  # Assuming you want to use the last time step's output\n",
    "        output = self.sigmoid(output)\n",
    "        return output"
   ],
   "metadata": {
    "collapsed": false,
    "ExecuteTime": {
     "end_time": "2024-01-17T08:53:53.978508741Z",
     "start_time": "2024-01-17T08:53:53.935815425Z"
    }
   },
   "id": "383d08aa42253de4"
  },
  {
   "cell_type": "code",
   "execution_count": 156,
   "outputs": [
    {
     "name": "stdout",
     "output_type": "stream",
     "text": [
      "tensor(38.6142) 1.0\n"
     ]
    }
   ],
   "source": [
    "# Calculate class weights\n",
    "positive_class_weight = len(y_tensor) / (y_tensor.sum() + 1e-5)  # Avoid division by zero\n",
    "negative_class_weight = 1.0\n",
    "\n",
    "print(positive_class_weight, negative_class_weight)\n",
    "# Create a weight tensor for the BCEWithLogitsLoss\n",
    "class_weights = []\n",
    "for i, y in enumerate(y_tensor):\n",
    "    if y == 1:\n",
    "        class_weights.append(1*positive_class_weight*2)\n",
    "    else:\n",
    "        class_weights.append(1)\n",
    "        \n",
    "class_weights = torch.tensor(class_weights)\n",
    "# Hyperparameters\n",
    "vocab_size = len(word_to_index)\n",
    "embedding_dim = 50\n",
    "hidden_size = 256\n",
    "output_size = 1\n",
    "\n",
    "# Create the model and move it to CUDA\n",
    "model_with_features = LSTMModelWithFeatures(vocab_size, embedding_dim, hidden_size, output_size)\n",
    "\n",
    "# Loss function and optimizer\n",
    "criterion = nn.BCEWithLogitsLoss(weight=class_weights)\n",
    "optimizer = optim.Adam(model_with_features.parameters(), lr=0.001)"
   ],
   "metadata": {
    "collapsed": false,
    "ExecuteTime": {
     "end_time": "2024-01-17T09:20:50.500389558Z",
     "start_time": "2024-01-17T09:20:49.490387815Z"
    }
   },
   "id": "2a6da8b800b4aa21"
  },
  {
   "cell_type": "code",
   "execution_count": 137,
   "outputs": [
    {
     "data": {
      "text/plain": "131906"
     },
     "execution_count": 137,
     "metadata": {},
     "output_type": "execute_result"
    }
   ],
   "source": [
    "len(y_tensor)"
   ],
   "metadata": {
    "collapsed": false,
    "ExecuteTime": {
     "end_time": "2024-01-17T09:08:28.027862005Z",
     "start_time": "2024-01-17T09:08:28.005544886Z"
    }
   },
   "id": "3ca6ba751164ee95"
  },
  {
   "cell_type": "code",
   "execution_count": 157,
   "outputs": [
    {
     "name": "stdout",
     "output_type": "stream",
     "text": [
      "Epoch [1/30], Loss: 1.8970, accuracy: 0.7663\n",
      "Epoch [2/30], Loss: 1.8918, accuracy: 0.6410\n",
      "Epoch [3/30], Loss: 1.8864, accuracy: 0.5321\n",
      "Epoch [4/30], Loss: 1.8805, accuracy: 0.4577\n",
      "Epoch [5/30], Loss: 1.8737, accuracy: 0.4048\n",
      "Epoch [6/30], Loss: 1.8657, accuracy: 0.3648\n",
      "Epoch [7/30], Loss: 1.8557, accuracy: 0.3308\n",
      "Epoch [8/30], Loss: 1.8431, accuracy: 0.2973\n",
      "Epoch [9/30], Loss: 1.8267, accuracy: 0.2586\n",
      "Epoch [10/30], Loss: 1.8075, accuracy: 0.2072\n",
      "Epoch [11/30], Loss: 1.8300, accuracy: 0.1054\n",
      "Epoch [12/30], Loss: 1.7919, accuracy: 0.2186\n",
      "Epoch [13/30], Loss: 1.7841, accuracy: 0.3088\n",
      "Epoch [14/30], Loss: 1.7801, accuracy: 0.3793\n",
      "Epoch [15/30], Loss: 1.7757, accuracy: 0.4357\n",
      "Epoch [16/30], Loss: 1.7702, accuracy: 0.4813\n",
      "Epoch [17/30], Loss: 1.7637, accuracy: 0.5184\n",
      "Epoch [18/30], Loss: 1.7562, accuracy: 0.5504\n",
      "Epoch [19/30], Loss: 1.7478, accuracy: 0.5781\n",
      "Epoch [20/30], Loss: 1.7387, accuracy: 0.6035\n",
      "Epoch [21/30], Loss: 1.7292, accuracy: 0.6279\n",
      "Epoch [22/30], Loss: 1.7194, accuracy: 0.6517\n",
      "Epoch [23/30], Loss: 1.7097, accuracy: 0.6744\n",
      "Epoch [24/30], Loss: 1.7003, accuracy: 0.6970\n",
      "Epoch [25/30], Loss: 1.6916, accuracy: 0.7188\n",
      "Epoch [26/30], Loss: 1.6840, accuracy: 0.7406\n",
      "Epoch [27/30], Loss: 1.6778, accuracy: 0.7605\n",
      "Epoch [28/30], Loss: 1.6730, accuracy: 0.7775\n",
      "Epoch [29/30], Loss: 1.6686, accuracy: 0.7889\n",
      "Epoch [30/30], Loss: 1.6632, accuracy: 0.7936\n"
     ]
    }
   ],
   "source": [
    "losses = []\n",
    "accuracies = []\n",
    "# Training loop\n",
    "epochs = 30\n",
    "for epoch in range(epochs):\n",
    "    # Forward pass\n",
    "    outputs = model_with_features(X_padded, is_capital_tensor, is_in_from_tensor, is_bigram_tensor)\n",
    "\n",
    "    # Compute loss\n",
    "    loss = criterion(outputs.squeeze(), y_tensor.float())\n",
    "\n",
    "    # Backward pass and optimization\n",
    "    optimizer.zero_grad()\n",
    "    loss.backward()\n",
    "    optimizer.step()\n",
    "    \n",
    "    losses.append(loss.item())\n",
    "    accuracy = ((outputs > 0.5).squeeze().float() == y_tensor).float().mean()\n",
    "    accuracies.append(accuracy)\n",
    "    print(f'Epoch [{epoch+1}/{epochs}], Loss: {loss.item():.4f}, accuracy: {accuracy:.4f}')"
   ],
   "metadata": {
    "collapsed": false,
    "ExecuteTime": {
     "end_time": "2024-01-17T09:22:51.209406715Z",
     "start_time": "2024-01-17T09:20:53.147387849Z"
    }
   },
   "id": "6d0d181f1ab156f6"
  },
  {
   "cell_type": "code",
   "execution_count": 158,
   "outputs": [
    {
     "data": {
      "text/plain": "<Figure size 1200x400 with 2 Axes>",
      "image/png": "[encoded data removed]"
     },
     "metadata": {},
     "output_type": "display_data"
    }
   ],
   "source": [
    "# Plotting\n",
    "plt.figure(figsize=(12, 4))\n",
    "\n",
    "# Plot training loss\n",
    "plt.subplot(1, 2, 1)\n",
    "plt.plot(losses, label='Training Loss')\n",
    "plt.xlabel('Epoch')\n",
    "plt.ylabel('Loss')\n",
    "plt.title('Training Loss by Epoch')\n",
    "plt.legend()\n",
    "\n",
    "# Plot training accuracy\n",
    "plt.subplot(1, 2, 2)\n",
    "plt.plot(accuracies, label='Training Accuracy')\n",
    "plt.xlabel('Epoch')\n",
    "plt.ylabel('Accuracy')\n",
    "plt.title('Training Accuracy by Epoch')\n",
    "plt.legend()\n",
    "\n",
    "plt.tight_layout()\n",
    "plt.show()"
   ],
   "metadata": {
    "collapsed": false,
    "ExecuteTime": {
     "end_time": "2024-01-17T09:22:51.693663731Z",
     "start_time": "2024-01-17T09:22:51.231488317Z"
    }
   },
   "id": "db13b28cc433064a"
  },
  {
   "cell_type": "code",
   "execution_count": 159,
   "outputs": [
    {
     "name": "stdout",
     "output_type": "stream",
     "text": [
      "Processing test email file at datasets/NewsGroups-XML/test/bunch3b/67213...\n",
      "Processing test email file at datasets/NewsGroups-XML/test/bunch3b/67266...\n",
      "Processing test email file at datasets/NewsGroups-XML/test/bunch3b/67278...\n",
      "Processing test email file at datasets/NewsGroups-XML/test/bunch3b/67284...\n",
      "Processing test email file at datasets/NewsGroups-XML/test/bunch3b/67308...\n",
      "Processing test email file at datasets/NewsGroups-XML/test/bunch3b/67313...\n",
      "Processing test email file at datasets/NewsGroups-XML/test/bunch3b/67315...\n",
      "Processing test email file at datasets/NewsGroups-XML/test/bunch3b/67317...\n",
      "Processing test email file at datasets/NewsGroups-XML/test/bunch3b/67336...\n",
      "Processing test email file at datasets/NewsGroups-XML/test/bunch3b/67348...\n",
      "Processing test email file at datasets/NewsGroups-XML/test/bunch3b/67360...\n",
      "Processing test email file at datasets/NewsGroups-XML/test/bunch3b/67384...\n",
      "Processing test email file at datasets/NewsGroups-XML/test/bunch3b/67386...\n",
      "Processing test email file at datasets/NewsGroups-XML/test/bunch3b/67393...\n",
      "Processing test email file at datasets/NewsGroups-XML/test/bunch3b/67418...\n",
      "Processing test email file at datasets/NewsGroups-XML/test/bunch3b/67422...\n",
      "Processing test email file at datasets/NewsGroups-XML/test/bunch3b/67436...\n",
      "Processing test email file at datasets/NewsGroups-XML/test/bunch3b/67476...\n",
      "Processing test email file at datasets/NewsGroups-XML/test/bunch3b/67495...\n",
      "Processing test email file at datasets/NewsGroups-XML/test/bunch3b/67504...\n",
      "Processing test email file at datasets/NewsGroups-XML/test/bunch3b/67523...\n",
      "Processing test email file at datasets/NewsGroups-XML/test/bunch3b/67539...\n",
      "Processing test email file at datasets/NewsGroups-XML/test/bunch3b/67550...\n",
      "Processing test email file at datasets/NewsGroups-XML/test/bunch3b/67572...\n",
      "Processing test email file at datasets/NewsGroups-XML/test/bunch3b/67985...\n",
      "Processing test email file at datasets/NewsGroups-XML/test/bunch3b/67992...\n",
      "Processing test email file at datasets/NewsGroups-XML/test/bunch3b/68000...\n",
      "Processing test email file at datasets/NewsGroups-XML/test/bunch3b/68004...\n",
      "Processing test email file at datasets/NewsGroups-XML/test/bunch3b/68011...\n",
      "Processing test email file at datasets/NewsGroups-XML/test/bunch3b/68084...\n",
      "Processing test email file at datasets/NewsGroups-XML/test/bunch3b/68108...\n",
      "Processing test email file at datasets/NewsGroups-XML/test/bunch3b/68118...\n",
      "Processing test email file at datasets/NewsGroups-XML/test/bunch3b/68182...\n",
      "Processing test email file at datasets/NewsGroups-XML/test/bunch3b/68186...\n",
      "Processing test email file at datasets/NewsGroups-XML/test/bunch3b/68197...\n",
      "Processing test email file at datasets/NewsGroups-XML/test/bunch3b/68208...\n",
      "Processing test email file at datasets/NewsGroups-XML/test/bunch3b/68224...\n",
      "Processing test email file at datasets/NewsGroups-XML/test/bunch3b/68235...\n",
      "Processing test email file at datasets/NewsGroups-XML/test/bunch3b/68248...\n",
      "Processing test email file at datasets/NewsGroups-XML/test/bunch3b/68251...\n",
      "Processing test email file at datasets/NewsGroups-XML/test/bunch3b/68279...\n",
      "Processing test email file at datasets/NewsGroups-XML/test/bunch3b/68304...\n",
      "Processing test email file at datasets/NewsGroups-XML/test/bunch3b/68312...\n",
      "Processing test email file at datasets/NewsGroups-XML/test/bunch3b/68315...\n",
      "Processing test email file at datasets/NewsGroups-XML/test/bunch3b/68318...\n",
      "Processing test email file at datasets/NewsGroups-XML/test/bunch3b/72052...\n",
      "Processing test email file at datasets/NewsGroups-XML/test/bunch3b/75892...\n",
      "Processing test email file at datasets/NewsGroups-XML/test/bunch3b/75907...\n",
      "Processing test email file at datasets/NewsGroups-XML/test/bunch3b/75953...\n",
      "Processing test email file at datasets/NewsGroups-XML/test/bunch3b/76064...\n",
      "Processing test email file at datasets/NewsGroups-XML/test/bunch3b/76147...\n",
      "Processing test email file at datasets/NewsGroups-XML/test/bunch3b/76266...\n",
      "Processing test email file at datasets/NewsGroups-XML/test/bunch3b/76291...\n",
      "Processing test email file at datasets/NewsGroups-XML/test/bunch3b/76317...\n",
      "Processing test email file at datasets/NewsGroups-XML/test/bunch3b/76327...\n",
      "Processing test email file at datasets/NewsGroups-XML/test/bunch3b/76335...\n",
      "Processing test email file at datasets/NewsGroups-XML/test/bunch3b/76341...\n",
      "Processing test email file at datasets/NewsGroups-XML/test/bunch3b/76353...\n",
      "Processing test email file at datasets/NewsGroups-XML/test/bunch3b/76380...\n",
      "Processing test email file at datasets/NewsGroups-XML/test/bunch3b/76421...\n",
      "Processing test email file at datasets/NewsGroups-XML/test/bunch3b/76430...\n",
      "Processing test email file at datasets/NewsGroups-XML/test/bunch3b/76432...\n",
      "Processing test email file at datasets/NewsGroups-XML/test/bunch3b/76434...\n",
      "Processing test email file at datasets/NewsGroups-XML/test/bunch3b/76438...\n",
      "Processing test email file at datasets/NewsGroups-XML/test/bunch3b/76449...\n",
      "Processing test email file at datasets/NewsGroups-XML/test/bunch3b/76476...\n",
      "Processing test email file at datasets/NewsGroups-XML/test/bunch3b/76504...\n",
      "Processing test email file at datasets/NewsGroups-XML/test/bunch3b/76506...\n",
      "Processing test email file at datasets/NewsGroups-XML/test/bunch3b/76520...\n",
      "Processing test email file at datasets/NewsGroups-XML/test/bunch3b/76531...\n",
      "Processing test email file at datasets/NewsGroups-XML/test/bunch3b/76536...\n",
      "Processing test email file at datasets/NewsGroups-XML/test/bunch3b/76544...\n",
      "Processing test email file at datasets/NewsGroups-XML/test/bunch3b/76556...\n",
      "Processing test email file at datasets/NewsGroups-XML/test/bunch3b/76581...\n",
      "Processing test email file at datasets/NewsGroups-XML/test/bunch3b/76589...\n",
      "Processing test email file at datasets/NewsGroups-XML/test/bunch3b/76590...\n",
      "Processing test email file at datasets/NewsGroups-XML/test/bunch3b/76601...\n",
      "Processing test email file at datasets/NewsGroups-XML/test/bunch3b/76655...\n",
      "Processing test email file at datasets/NewsGroups-XML/test/bunch3b/76656...\n",
      "Processing test email file at datasets/NewsGroups-XML/test/bunch3b/76677...\n",
      "Processing test email file at datasets/NewsGroups-XML/test/bunch3b/76682...\n",
      "Processing test email file at datasets/NewsGroups-XML/test/bunch3b/76691...\n",
      "Processing test email file at datasets/NewsGroups-XML/test/bunch3b/76783...\n",
      "Processing test email file at datasets/NewsGroups-XML/test/bunch3b/76809...\n",
      "Processing test email file at datasets/NewsGroups-XML/test/bunch3b/76837...\n",
      "Processing test email file at datasets/NewsGroups-XML/test/bunch3b/77199...\n",
      "Processing test email file at datasets/NewsGroups-XML/test/bunch3b/77333...\n",
      "Processing test email file at datasets/NewsGroups-XML/test/bunch3b/77805...\n",
      "Processing test email file at datasets/NewsGroups-XML/test/bunch3b/77819...\n",
      "Processing test email file at datasets/NewsGroups-XML/test/bunch3b/77850...\n",
      "Processing test email file at datasets/NewsGroups-XML/test/bunch3b/83516...\n",
      "Processing test email file at datasets/NewsGroups-XML/test/bunch3b/83697...\n",
      "Processing test email file at datasets/NewsGroups-XML/test/bunch3b/83762...\n",
      "Processing test email file at datasets/NewsGroups-XML/test/bunch3b/83764...\n",
      "Processing test email file at datasets/NewsGroups-XML/test/bunch3b/83767...\n",
      "Processing test email file at datasets/NewsGroups-XML/test/bunch3b/83772...\n",
      "Processing test email file at datasets/NewsGroups-XML/test/bunch3b/83834...\n",
      "Processing test email file at datasets/NewsGroups-XML/test/bunch3b/83865...\n",
      "Processing test email file at datasets/NewsGroups-XML/test/bunch3b/83883...\n",
      "Processing test email file at datasets/NewsGroups-XML/test/bunch3b/83903...\n",
      "Processing test email file at datasets/NewsGroups-XML/test/bunch3b/83911...\n",
      "Processing test email file at datasets/NewsGroups-XML/test/bunch3b/83929...\n",
      "Processing test email file at datasets/NewsGroups-XML/test/bunch3b/83956...\n",
      "Processing test email file at datasets/NewsGroups-XML/test/bunch3b/83960...\n",
      "Processing test email file at datasets/NewsGroups-XML/test/bunch3b/83964...\n",
      "Processing test email file at datasets/NewsGroups-XML/test/bunch3b/83987...\n",
      "Processing test email file at datasets/NewsGroups-XML/test/bunch3b/84122...\n",
      "Processing test email file at datasets/NewsGroups-XML/test/bunch3b/84183...\n",
      "Processing test email file at datasets/NewsGroups-XML/test/bunch3b/84218...\n",
      "Processing test email file at datasets/NewsGroups-XML/test/bunch3b/84233...\n",
      "Processing test email file at datasets/NewsGroups-XML/test/bunch3b/84239...\n",
      "Processing test email file at datasets/NewsGroups-XML/test/bunch3b/84265...\n",
      "Processing test email file at datasets/NewsGroups-XML/test/bunch3b/84359...\n",
      "Processing test email file at datasets/NewsGroups-XML/test/bunch3b/84414...\n",
      "Processing test email file at datasets/NewsGroups-XML/test/bunch3b/84423...\n",
      "Processing test email file at datasets/NewsGroups-XML/test/bunch3b/84507...\n",
      "Processing test email file at datasets/NewsGroups-XML/test/bunch3b/84508...\n",
      "Processing test email file at datasets/NewsGroups-XML/test/bunch3b/84511...\n",
      "Processing test email file at datasets/NewsGroups-XML/test/bunch3b/84566...\n",
      "Processing test email file at datasets/NewsGroups-XML/test/bunch3b/84567...\n"
     ]
    }
   ],
   "source": [
    "test_path = \"datasets/NewsGroups-XML/test\"\n",
    "news_groups_test_folders = os.listdir(test_path)\n",
    "\n",
    "test_sentences = []\n",
    "test_from_features = []\n",
    "test_labels = []\n",
    "test_bigram_features = []\n",
    "test_capitalized_features = []\n",
    "\n",
    "for folder in news_groups_test_folders:\n",
    "    for file in os.listdir(f\"{test_path}/{folder}\"):\n",
    "        file_path = f\"{test_path}/{folder}/{file}\"\n",
    "        print(f\"Processing test email file at {file_path}...\")\n",
    "        lines = []\n",
    "        all_context = \"\"\n",
    "        with open(file_path, mode=\"r+\") as f:\n",
    "            for line in f.readlines():\n",
    "                if line.strip() != \"\":\n",
    "                    lines.append(line.strip())\n",
    "                    all_context += line.strip() + \" \"\n",
    "\n",
    "        for line in lines:\n",
    "            ex_sentence = line\n",
    "            ex_sentence = ex_sentence.replace(\"<true_name> \", \"<true_name>\")\n",
    "            ex_sentence = ex_sentence.replace(\" </true_name>\", \"</true_name>\")\n",
    "            #print(ex_sentence)\n",
    "            word_tags = pos_tag(custom_word_tokenize(ex_sentence))\n",
    "            #print(word_tags)\n",
    "            # process the line, don't take unnecessary words to the training.\n",
    "            processed_sentence = []\n",
    "            is_from_feature = []\n",
    "            is_name_label = []\n",
    "            bigram_feature = []\n",
    "            capitalize_feature = []\n",
    "\n",
    "            for word, tag in word_tags:\n",
    "                #print(word, tag, tag == '.')\n",
    "                if not (tag == '.' or tag == ':' or tag == ')' or tag == '(' or word == '*' or word.count('.')>1 or word == '``'):\n",
    "                    if not word.endswith('.com'):\n",
    "                        if not '@' in word:\n",
    "                            if '<true_name>' in word:\n",
    "                                new_word = word.replace(\"<true_name>\", \"\")\n",
    "                                new_word = new_word.replace(\"</true_name>\", \"\")\n",
    "                                new_word = new_word.strip()\n",
    "                                for name in new_word.split(\" \"):\n",
    "                                    if name.isalpha():\n",
    "                                        #print(name, name.isalpha(), is_word_appearing_in_the_from(name, ex_sentence), \"is_name\")\n",
    "                                        processed_sentence.append(name)\n",
    "                                        is_from_feature.append(1 if is_word_appearing_in_the_from(name, ex_sentence) else 0)\n",
    "                                        is_name_label.append(1)\n",
    "                                        bigram_feature.append(1 if followed_by_and_I(name, all_context) else 0)\n",
    "                                        capitalize_feature.append(1 if is_word_capitalized(name) else 0)\n",
    "                            else:\n",
    "                                #print(word, word.isalpha(), is_word_appearing_in_the_from(word, ex_sentence))\n",
    "                                processed_sentence.append(word)\n",
    "                                is_from_feature.append(1 if is_word_appearing_in_the_from(word, ex_sentence) else 0)\n",
    "                                is_name_label.append(0)\n",
    "                                bigram_feature.append(1 if followed_by_and_I(word, all_context) else 0)\n",
    "                                capitalize_feature.append(1 if is_word_capitalized(word) else 0)\n",
    "\n",
    "            test_bigram_features.append(bigram_feature)\n",
    "            test_labels.append(is_name_label)\n",
    "            test_sentences.append(processed_sentence)\n",
    "            test_from_features.append(is_from_feature)\n",
    "            test_capitalized_features.append(capitalize_feature)\n",
    "\n",
    "\n",
    "\n",
    "\n"
   ],
   "metadata": {
    "collapsed": false,
    "ExecuteTime": {
     "end_time": "2024-01-17T09:22:53.700991577Z",
     "start_time": "2024-01-17T09:22:51.698821206Z"
    }
   },
   "id": "766622606945c769"
  },
  {
   "cell_type": "code",
   "execution_count": 160,
   "outputs": [
    {
     "data": {
      "text/plain": "4440"
     },
     "execution_count": 160,
     "metadata": {},
     "output_type": "execute_result"
    }
   ],
   "source": [
    "len(test_sentences)"
   ],
   "metadata": {
    "collapsed": false,
    "ExecuteTime": {
     "end_time": "2024-01-17T09:22:53.714205444Z",
     "start_time": "2024-01-17T09:22:53.705990462Z"
    }
   },
   "id": "e494af777a4ffd8b"
  },
  {
   "cell_type": "code",
   "execution_count": 161,
   "outputs": [],
   "source": [
    "test_words = []\n",
    "test_is_capital_feature = []\n",
    "test_is_in_from_feature = []\n",
    "test_is_bigram_feature = []\n",
    "test_real_labels = []\n",
    "\n",
    "for sentence_index, sentence in enumerate(test_sentences):\n",
    "    for i, word in enumerate(sentence):\n",
    "        test_words.append(word)\n",
    "        is_capitalized = test_capitalized_features[sentence_index][i]\n",
    "        test_is_capital_feature.append(is_capitalized)\n",
    "\n",
    "        y = test_labels[sentence_index][i]\n",
    "        test_real_labels.append(y)\n",
    "\n",
    "        is_bigram = test_bigram_features[sentence_index][i]\n",
    "        test_is_bigram_feature.append(is_bigram)\n",
    "\n",
    "        is_from = test_from_features[sentence_index][i]\n",
    "        test_is_in_from_feature.append(is_from)"
   ],
   "metadata": {
    "collapsed": false,
    "ExecuteTime": {
     "end_time": "2024-01-17T09:22:53.759399477Z",
     "start_time": "2024-01-17T09:22:53.709583451Z"
    }
   },
   "id": "24f9c2f8a9a8d5bf"
  },
  {
   "cell_type": "code",
   "execution_count": 162,
   "outputs": [
    {
     "data": {
      "text/plain": "(31339, 31339, 31339, 31339, 31339)"
     },
     "execution_count": 162,
     "metadata": {},
     "output_type": "execute_result"
    }
   ],
   "source": [
    "len(test_words),len(test_is_capital_feature),len(test_is_in_from_feature),len(test_is_bigram_feature),len(test_real_labels)"
   ],
   "metadata": {
    "collapsed": false,
    "ExecuteTime": {
     "end_time": "2024-01-17T09:22:53.765112471Z",
     "start_time": "2024-01-17T09:22:53.759170544Z"
    }
   },
   "id": "4980ff6e2b08d738"
  },
  {
   "cell_type": "code",
   "execution_count": 163,
   "outputs": [],
   "source": [
    "prev_max = len(word_to_index)\n",
    "for word in test_words:\n",
    "    if word not in word_to_index:\n",
    "        word_to_index[word] = np.random.randint(0, prev_max)\n",
    "\n",
    "test_X_indices = [word_to_index[word] for word in test_words]"
   ],
   "metadata": {
    "collapsed": false,
    "ExecuteTime": {
     "end_time": "2024-01-17T09:22:53.823502698Z",
     "start_time": "2024-01-17T09:22:53.771789407Z"
    }
   },
   "id": "e8c8fc96ab5802d1"
  },
  {
   "cell_type": "code",
   "execution_count": 164,
   "outputs": [
    {
     "data": {
      "text/plain": "19923"
     },
     "execution_count": 164,
     "metadata": {},
     "output_type": "execute_result"
    }
   ],
   "source": [
    "len(set(word_to_index.values()))"
   ],
   "metadata": {
    "collapsed": false,
    "ExecuteTime": {
     "end_time": "2024-01-17T09:22:53.823742892Z",
     "start_time": "2024-01-17T09:22:53.814346978Z"
    }
   },
   "id": "83e2a7738a50168"
  },
  {
   "cell_type": "code",
   "execution_count": 165,
   "outputs": [
    {
     "data": {
      "text/plain": "31339"
     },
     "execution_count": 165,
     "metadata": {},
     "output_type": "execute_result"
    }
   ],
   "source": [
    "len(test_X_indices)"
   ],
   "metadata": {
    "collapsed": false,
    "ExecuteTime": {
     "end_time": "2024-01-17T09:22:53.823866105Z",
     "start_time": "2024-01-17T09:22:53.815169483Z"
    }
   },
   "id": "d49a88f3b583f332"
  },
  {
   "cell_type": "code",
   "execution_count": 166,
   "outputs": [],
   "source": [
    "test_X_padded = torch.tensor(test_X_indices)\n",
    "test_y_tensor = torch.tensor(test_real_labels, dtype=torch.float32)\n",
    "test_is_capital_tensor = torch.tensor(test_is_capital_feature, dtype=torch.float32)\n",
    "test_is_in_from_tensor = torch.tensor(test_is_in_from_feature, dtype=torch.float32)\n",
    "test_is_bigram_tensor = torch.tensor(test_is_bigram_feature, dtype=torch.float32)"
   ],
   "metadata": {
    "collapsed": false,
    "ExecuteTime": {
     "end_time": "2024-01-17T09:22:53.834274370Z",
     "start_time": "2024-01-17T09:22:53.821143861Z"
    }
   },
   "id": "d0f845ad0bcb4f6d"
  },
  {
   "cell_type": "code",
   "execution_count": 167,
   "outputs": [
    {
     "data": {
      "text/plain": "LSTMModelWithFeatures(\n  (embedding): Embedding(23401, 50)\n  (lstm): LSTM(53, 256, batch_first=True)\n  (fc): Linear(in_features=256, out_features=1, bias=True)\n  (sigmoid): Sigmoid()\n)"
     },
     "execution_count": 167,
     "metadata": {},
     "output_type": "execute_result"
    }
   ],
   "source": [
    "model_with_features.eval()"
   ],
   "metadata": {
    "collapsed": false,
    "ExecuteTime": {
     "end_time": "2024-01-17T09:22:53.908396953Z",
     "start_time": "2024-01-17T09:22:53.843188934Z"
    }
   },
   "id": "4fc25fc9a369d180"
  },
  {
   "cell_type": "code",
   "execution_count": 168,
   "outputs": [
    {
     "name": "stdout",
     "output_type": "stream",
     "text": [
      "Test set, on 31339 words, accuracy: 0.7629, recall: 0.6034 (i.e., 18910 out of 31339 words were correctly recalled on test set..\n"
     ]
    }
   ],
   "source": [
    "with torch.no_grad():\n",
    "    test_predictions = model_with_features(test_X_padded, test_is_capital_tensor, test_is_in_from_tensor, test_is_bigram_tensor)\n",
    "\n",
    "    # Calculate binary predictions\n",
    "    binary_predictions = (test_predictions > 0.5).squeeze().float()\n",
    "\n",
    "    # Compute accuracy\n",
    "    test_accuracy = (binary_predictions == test_y_tensor).float().mean()\n",
    "\n",
    "    # Calculate recall\n",
    "    true_positives = ((binary_predictions == 1) & (test_y_tensor == 1)).sum().float()\n",
    "    false_negatives = ((binary_predictions == 0) & (test_y_tensor == 1)).sum().float()\n",
    "    false_positives = ((binary_predictions == 1) & (test_y_tensor == 0)).sum().float()\n",
    "    \n",
    "    recall = true_positives / (true_positives + false_negatives)\n",
    "\n",
    "    print(f'Test set, on {len(test_words)} words, accuracy: {test_accuracy:.4f}, recall: {recall:.4f} (i.e., {int(len(test_words) * recall)} out of {int(len(test_words))} words were correctly recalled on test set..')\n"
   ],
   "metadata": {
    "collapsed": false,
    "ExecuteTime": {
     "end_time": "2024-01-17T09:22:54.309060062Z",
     "start_time": "2024-01-17T09:22:53.886210853Z"
    }
   },
   "id": "bd378694d1e931b3"
  },
  {
   "cell_type": "code",
   "execution_count": 169,
   "outputs": [
    {
     "data": {
      "text/plain": "11966"
     },
     "execution_count": 169,
     "metadata": {},
     "output_type": "execute_result"
    }
   ],
   "source": [
    "word_to_index[\"Jack\"]"
   ],
   "metadata": {
    "collapsed": false,
    "ExecuteTime": {
     "end_time": "2024-01-17T09:22:54.316303898Z",
     "start_time": "2024-01-17T09:22:54.310296007Z"
    }
   },
   "id": "b5763dfac4a37c5d"
  },
  {
   "cell_type": "code",
   "execution_count": 134,
   "outputs": [],
   "source": [],
   "metadata": {
    "collapsed": false,
    "ExecuteTime": {
     "end_time": "2024-01-17T09:01:35.225820310Z",
     "start_time": "2024-01-17T09:01:35.219490993Z"
    }
   },
   "id": "fb1a7c787727c86"
  },
  {
   "cell_type": "code",
   "execution_count": 134,
   "outputs": [],
   "source": [],
   "metadata": {
    "collapsed": false,
    "ExecuteTime": {
     "end_time": "2024-01-17T09:01:35.226003115Z",
     "start_time": "2024-01-17T09:01:35.221692409Z"
    }
   },
   "id": "6713e71fbc6355b3"
  },
  {
   "cell_type": "code",
   "execution_count": null,
   "outputs": [],
   "source": [],
   "metadata": {
    "collapsed": false
   },
   "id": "db14e0794fab9c67"
  }
 ],
 "metadata": {
  "kernelspec": {
   "display_name": "Python 3",
   "language": "python",
   "name": "python3"
  },
  "language_info": {
   "codemirror_mode": {
    "name": "ipython",
    "version": 2
   },
   "file_extension": ".py",
   "mimetype": "text/x-python",
   "name": "python",
   "nbconvert_exporter": "python",
   "pygments_lexer": "ipython2",
   "version": "2.7.6"
  }
 },
 "nbformat": 4,
 "nbformat_minor": 5
}
